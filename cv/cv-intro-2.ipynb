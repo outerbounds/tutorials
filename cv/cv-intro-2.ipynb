{
 "cells": [
  {
   "cell_type": "raw",
   "id": "b468bf5b-51b3-4faa-9928-ecd5291b1b8f",
   "metadata": {},
   "source": [
    "---\n",
    "title: \"Beginner Computer Vision: Episode 2\"\n",
    "slug: /docs/cv-tutorial-L2/\n",
    "tags: [data, cv]\n",
    "sidebar_label: Build a CNN Model\n",
    "id: cv-tutorial-L2\n",
    "pagination_next: tutorials/nbs/cv/cv-tutorial-L3\n",
    "pagination_prev: tutorials/nbs/cv/cv-tutorial-L1\n",
    "description: A tutorial that uses Keras, Scikit-Learn, and Metaflow to operationalize a machine learning workflow.\n",
    "category: data science\n",
    "hide_table_of_contents: false\n",
    "---"
   ]
  },
  {
   "cell_type": "markdown",
   "id": "e6b90da4-6a7f-4dc0-8576-50837547b123",
   "metadata": {},
   "source": [
    "This episode references this [notebook](https://github.com/outerbounds/tutorials/blob/main/cv/cv-intro-2.ipynb).\n",
    "It shows how to build a [Convolutional Neural Network](https://en.wikipedia.org/wiki/Convolutional_neural_network) (CNN) model with Keras to predict the classes of MNIST images. If you are already familiar with MNIST and Keras fundamentals, you may want to skip to [Episode 3](/docs/cv-tutorial-L3/) where Metaflow enters the tutorial.\n",
    "\n",
    "After following the setup instructions, start the notebook with this command:\n",
    "```bash\n",
    "jupyter lab cv-intro-2.ipynb\n",
    "```"
   ]
  },
  {
   "cell_type": "markdown",
   "id": "9971639b-1c55-4a94-b837-1319fa041a2c",
   "metadata": {},
   "source": [
    "Now it’s time to build a model to compare against the baseline. The goal is to define a CNN model that outperforms the baseline model from the previous notebook."
   ]
  },
  {
   "cell_type": "raw",
   "id": "7c6a0794-ffea-4b5a-99b4-792c819a194f",
   "metadata": {},
   "source": [
    "### <NumberHeading number={1}>Load the Data</NumberHeading>"
   ]
  },
  {
   "cell_type": "markdown",
   "id": "259e7c93-c433-47db-8c39-4dd73716cc96",
   "metadata": {},
   "source": [
    "We start by loading the data in the same way as the [the previous episode](/docs/cv-tutorial-L1/):"
   ]
  },
  {
   "cell_type": "code",
   "execution_count": 1,
   "id": "8b0ef2bb-9c34-4aed-9f27-890996bc2731",
   "metadata": {},
   "outputs": [],
   "source": [
    "from tensorflow import keras\n",
    "import numpy as np\n",
    "\n",
    "num_classes = 10\n",
    "((x_train, y_train), (x_test, y_test)) = keras.datasets.mnist.load_data()\n",
    "x_train = x_train.astype(\"float32\") / 255\n",
    "x_test = x_test.astype(\"float32\") / 255\n",
    "x_train = np.expand_dims(x_train, -1)\n",
    "x_test = np.expand_dims(x_test, -1)\n",
    "y_train = keras.utils.to_categorical(y_train, num_classes)\n",
    "y_test = keras.utils.to_categorical(y_test, num_classes)"
   ]
  },
  {
   "cell_type": "raw",
   "id": "9162e89b-1231-45df-a1ba-13c076f42701",
   "metadata": {},
   "source": [
    "### <NumberHeading number={2}>Configure Hyperparameters</NumberHeading>"
   ]
  },
  {
   "cell_type": "markdown",
   "id": "cc41f3a3-5fa1-4f61-a9ba-90bed845648a",
   "metadata": {},
   "source": [
    "The model has several hidden layers defined by the `hidden_conv_layer_sizes` hyperparameter. \n",
    "If you are new to machine learning you don't need to know about setting these values for now.\n",
    "For more experienced users, notice how these values appear in the Metaflow code you will write starting in the next episode. \n",
    "We will use Metaflow as an experiment tracker for hyperparameter values and corresponding metric scores for models they define. "
   ]
  },
  {
   "cell_type": "code",
   "execution_count": 2,
   "id": "73d62449-77b8-44ee-a11f-2b367ccd0be6",
   "metadata": {},
   "outputs": [],
   "source": [
    "hidden_conv_layer_sizes = [32, 64]\n",
    "input_shape = (28, 28, 1)\n",
    "kernel_size = (3, 3)\n",
    "pool_size = (2, 2)\n",
    "p_dropout = 0.5\n",
    "\n",
    "num_classes = y_test.shape[1]\n",
    "\n",
    "epochs = 5\n",
    "batch_size = 32\n",
    "verbose = 2 \n",
    "\n",
    "optimizer = 'adam'\n",
    "loss = 'categorical_crossentropy'\n",
    "metrics = ['accuracy']"
   ]
  },
  {
   "cell_type": "raw",
   "id": "875f363f-0bb0-4501-9288-ed2aacb9394e",
   "metadata": {},
   "source": [
    "### <NumberHeading number={3}>Build a Model</NumberHeading>"
   ]
  },
  {
   "cell_type": "markdown",
   "id": "101313c6-c1a1-40e5-9c7d-b6c0c4b5788c",
   "metadata": {},
   "source": [
    "In this section you, will build a neural network using the `keras.Sequential` API. \n",
    "The loop constructs a list of convolutional and pooling layers. \n",
    "The list is then extended with a fully-connected layer.\n",
    "Finally, the Keras model is compiled so it is ready to train."
   ]
  },
  {
   "cell_type": "code",
   "execution_count": 3,
   "id": "1839786c-5624-4e1e-a73a-aa89e3bf84c7",
   "metadata": {},
   "outputs": [],
   "source": [
    "from tensorflow.keras import layers, Sequential, Input\n",
    "\n",
    "_layers = [Input(shape=input_shape)]\n",
    "\n",
    "# dynamic based on length of hidden_conv_layer_sizes\n",
    "for conv_layer_size in hidden_conv_layer_sizes:\n",
    "    _layers.append(layers.Conv2D(\n",
    "        conv_layer_size, \n",
    "        kernel_size=kernel_size, \n",
    "        activation=\"relu\"\n",
    "    ))\n",
    "    _layers.append(layers.MaxPooling2D(pool_size=pool_size))\n",
    "_layers.extend([\n",
    "    layers.Flatten(),\n",
    "    layers.Dropout(p_dropout),\n",
    "    layers.Dense(num_classes, activation=\"softmax\")\n",
    "])\n",
    "\n",
    "model = Sequential(_layers)\n",
    "model.compile(loss=loss, optimizer=optimizer, metrics=metrics)"
   ]
  },
  {
   "cell_type": "raw",
   "id": "4037b1e4-f9d6-441e-a1de-5451e7e34847",
   "metadata": {},
   "source": [
    "### <NumberHeading number={4}>Train Your Model</NumberHeading>"
   ]
  },
  {
   "cell_type": "markdown",
   "id": "cabd1a7d-878c-4925-8401-db93f04ba676",
   "metadata": {},
   "source": [
    "Keras models like the one you made in the previous step have a `.fit` function following the convention of the [sklearn Estimator API](https://scikit-learn.org/stable/developers/develop.html). One benefit of this API is that you can pass data in NumPy arrays directly to `model.fit`. "
   ]
  },
  {
   "cell_type": "code",
   "execution_count": 4,
   "id": "d6214908-a3cf-438b-bc6c-9770ce0f29ec",
   "metadata": {},
   "outputs": [
    {
     "name": "stdout",
     "output_type": "stream",
     "text": [
      "Epoch 1/5\n"
     ]
    },
    {
     "name": "stderr",
     "output_type": "stream",
     "text": [
      "2022-10-25 13:09:47.543570: W tensorflow/core/platform/profile_utils/cpu_utils.cc:128] Failed to get CPU frequency: 0 Hz\n"
     ]
    },
    {
     "name": "stdout",
     "output_type": "stream",
     "text": [
      "1875/1875 - 15s - loss: 0.2047 - accuracy: 0.9368 - val_loss: 0.0522 - val_accuracy: 0.9831 - 15s/epoch - 8ms/step\n",
      "Epoch 2/5\n",
      "1875/1875 - 15s - loss: 0.0789 - accuracy: 0.9753 - val_loss: 0.0412 - val_accuracy: 0.9865 - 15s/epoch - 8ms/step\n",
      "Epoch 3/5\n",
      "1875/1875 - 13s - loss: 0.0616 - accuracy: 0.9803 - val_loss: 0.0360 - val_accuracy: 0.9878 - 13s/epoch - 7ms/step\n",
      "Epoch 4/5\n",
      "1875/1875 - 13s - loss: 0.0523 - accuracy: 0.9838 - val_loss: 0.0346 - val_accuracy: 0.9882 - 13s/epoch - 7ms/step\n",
      "Epoch 5/5\n",
      "1875/1875 - 14s - loss: 0.0469 - accuracy: 0.9857 - val_loss: 0.0278 - val_accuracy: 0.9902 - 14s/epoch - 7ms/step\n"
     ]
    }
   ],
   "source": [
    "history = model.fit(\n",
    "    x_train, y_train,\n",
    "    validation_data = (x_test, y_test),\n",
    "    epochs = epochs,\n",
    "    batch_size = batch_size,\n",
    "    verbose = verbose\n",
    ")"
   ]
  },
  {
   "cell_type": "raw",
   "id": "4840c777-5887-4c0c-997e-d302cf5a5769",
   "metadata": {},
   "source": [
    "### <NumberHeading number={5}>Evaluate Performance</NumberHeading>"
   ]
  },
  {
   "cell_type": "markdown",
   "id": "a26007f0-5478-4141-9519-a35e9b296cbe",
   "metadata": {},
   "source": [
    "Keras models also have a `.evaluate` function you can use to retrieve accuracy and loss scores."
   ]
  },
  {
   "cell_type": "code",
   "execution_count": 5,
   "id": "448cec76-c0f0-4549-84b1-4b3db143aa56",
   "metadata": {},
   "outputs": [
    {
     "name": "stdout",
     "output_type": "stream",
     "text": [
      "The CNN model predicted correctly 99.02% of the time on the test set.\n"
     ]
    }
   ],
   "source": [
    "scores = model.evaluate(x_test, y_test, verbose=0)\n",
    "categorical_cross_entropy = scores[0]\n",
    "accuracy = scores[1]\n",
    "msg = \"The CNN model predicted correctly {}% of the time on the test set.\"\n",
    "print(msg.format(round(100*accuracy, 3)))"
   ]
  },
  {
   "cell_type": "markdown",
   "id": "fe61c3c8-e9fa-439c-85bf-152cbf2fea18",
   "metadata": {},
   "source": [
    "In the last two episodes, you have developed and evaluated two different models. \n",
    "Comparing models against each other is an important part of machine learning workflows. \n",
    "For example, you may want to compare changes in hyperparameters and effects on performance metrics.\n",
    "You can also compare more complex models like the `CNN` from this episode to a simpler model like the `baseline` from [episode 1](/docs/cv-tutorial-L1/). Among other benefits, this comparison can help you avoid promoting unnecessarily complex models to a production environment.\n",
    "\n",
    "In any case, it is likely that at some point you will want to train models in parallel processes or on cloud machines. \n",
    "In the next episode, you will learn how to package the `baseline` and `CNN` models into a flow that trains each model in parallel processes on your laptop. Then one of the primary Metaflow benefits kicks in, allowing you to run these flows on your cloud infrastructure seamlessly."
   ]
  }
 ],
 "metadata": {
  "kernelspec": {
   "display_name": "Python 3 (ipykernel)",
   "language": "python",
   "name": "python3"
  },
  "language_info": {
   "codemirror_mode": {
    "name": "ipython",
    "version": 3
   },
   "file_extension": ".py",
   "mimetype": "text/x-python",
   "name": "python",
   "nbconvert_exporter": "python",
   "pygments_lexer": "ipython3",
   "version": "3.10.6"
  }
 },
 "nbformat": 4,
 "nbformat_minor": 5
}
