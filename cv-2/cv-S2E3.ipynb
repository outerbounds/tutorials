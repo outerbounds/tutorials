{
 "cells": [
  {
   "cell_type": "raw",
   "id": "d51a4b88-838d-4823-b3c9-79b17d195476",
   "metadata": {},
   "source": [
    "---\n",
    "title: \"Intermediate Computer Vision: Episode 3\"\n",
    "slug: /docs/cv-tutorial-S2E3/\n",
    "tags: [data, cv]\n",
    "sidebar_label: Store Images in the Cloud\n",
    "id: cv-tutorial-S2E3\n",
    "pagination_next: tutorials/nbs/cv-2/cv-tutorial-S2E4\n",
    "pagination_prev: tutorials/nbs/cv-2/cv-tutorial-S2E2\n",
    "description: A tutorial that uses PyTorch and Metaflow to create a machine learning workflow for rapid prototyping.\n",
    "category: data science\n",
    "hide_table_of_contents: false\n",
    "---"
   ]
  },
  {
   "cell_type": "markdown",
   "id": "7b5a2da1-bb7e-46ec-95d9-d18672d311e8",
   "metadata": {},
   "source": [
    "Now that you have your data pipeline working locally, most likely in a notebook or set of Python scripts, it is a good time to think about how you access cloud resources. How do you configure the best development environment you can imagine for using your data pipelines when workflows require big data, occasionally bursting to the cloud, and versioning the results of many experiments? \n",
    "\n",
    "![](/assets/stack-data.png)\n",
    "\n",
    "Regardless of how you approach solutions to these challenges, you will need to move data back and forth from remote storage to the instances you run compute tasks on.\n",
    "\n",
    "This episode will introduce you to the fundamentals of working with cloud data stores using Metaflow. You can follow along in this [Jupyter notebook](https://github.com/outerbounds/tutorials/tree/main/cv-2/cv-S2E3). We will focus on using [AWS S3](https://aws.amazon.com/s3/) to upload the files we just downloaded to an S3 bucket, but Metaflow works with [other cloud providers](/docs/engineering-welcome/) as well. This will help us store that data in a place that is accessible to model training environments, whether they are on a laptop or remote GPU-powered instance.   "
   ]
  },
  {
   "cell_type": "raw",
   "id": "78d20605-77a5-46f0-8e2e-9f44bd9bf408",
   "metadata": {},
   "source": [
    "### <NumberHeading number={1}>Why Use Metaflow Tools for Reading and Writing Data in the Cloud?</NumberHeading>"
   ]
  },
  {
   "cell_type": "markdown",
   "id": "8e06e1d5-f8fb-4bc2-a472-9878abef8d62",
   "metadata": {},
   "source": [
    "You can use the [AWS CLI](https://aws.amazon.com/cli/) or [boto3](https://boto3.amazonaws.com/v1/documentation/api/latest/index.html) to communicate with AWS resources from Metaflow code, but using the Metaflow tools has a few advantages.\n",
    "First and foremost, it is fast. The S3 client is optimized for high throughput between S3 and AWS compute instances. This effect becomes powerful when reading and writing to S3 from a remote task running on AWS compute resources. Another principal benefit is the simplicity of the Metaflow client. There are a few intuitive APIs that interoperate seamlessly with your `FlowSpec` definitions. The functionality in `metaflow.S3` includes:\n",
    "- `S3.get` to access a single object with its S3 key.\n",
    "- `S3.get_many` to access many objects *in parallel* with a list of S3 keys.\n",
    "- `S3.put` a single object in a user-specified S3 key.\n",
    "- `S3.put_files` a list of files to add to S3 as files in corresponding S3 keys.\n",
    "You can read details about these functions and more optimized S3 functionality in the [Metaflow API reference](https://docs.metaflow.org/api/S3)."
   ]
  },
  {
   "cell_type": "raw",
   "id": "9caea0e5-9356-40b9-b54e-7d602851195a",
   "metadata": {},
   "source": [
    "### <NumberHeading number={2}>Move a Local Image Dataset to S3</NumberHeading>"
   ]
  },
  {
   "cell_type": "markdown",
   "id": "e6127456-4ced-4447-8417-a1614bca754e",
   "metadata": {},
   "source": [
    "When working with valuable data in an organization, such as a large image dataset you have curated, you will eventually want to store it in the cloud.\n",
    "In [Episode 1](/docs/cv-tutorial-S2E1), you saw how to download the dataset. \n",
    "Now, you will see how to push the data to an S3 bucket of your choosing.\n",
    "If you wish to run the code yourself you will need to choose an S3 bucket that you can write to. \n",
    "You can read more about S3 policies and see examples [here](https://docs.aws.amazon.com/IAM/latest/UserGuide/reference_policies_examples_s3_rw-bucket.html)."
   ]
  },
  {
   "cell_type": "markdown",
   "id": "414b2b34-8a23-44ae-9660-b77d8e26077a",
   "metadata": {},
   "source": [
    "The following code snippet shows how you can upload the dataset, the two zip files downloaded in [Episode 1](/docs/cv-tutorial-S2E1/), to S3. \n",
    "We use the `put_files` functionality from Metaflow's [S3 client](https://docs.metaflow.org/scaling/data#data-in-s3-metaflows3) for this."
   ]
  },
  {
   "cell_type": "code",
   "execution_count": 4,
   "id": "9ca4ab22-1700-484b-87f6-7d9d9d76ab6b",
   "metadata": {},
   "outputs": [],
   "source": [
    "from metaflow import S3\n",
    "\n",
    "# Change this URI to that of an S3 bucket you want to write to.\n",
    "S3_URI = 's3://outerbounds-tutorials/computer-vision/hand-gesture-recognition/'\n",
    "\n",
    "# Relative, local paths that mirror the structure of the S3 bucket.\n",
    "DATA_ROOT = 'data/'\n",
    "images = os.path.join(DATA_ROOT, 'subsample.zip')\n",
    "annotations = os.path.join(DATA_ROOT, 'subsample-annotations.zip')\n",
    "\n",
    "with S3(s3root=S3_URI) as s3:\n",
    "    s3.put_files([(images, images), (annotations, annotations)])"
   ]
  },
  {
   "cell_type": "raw",
   "id": "e090cf6f-65fe-4749-8b01-6ce12967cb59",
   "metadata": {},
   "source": [
    "### <NumberHeading number={3}>Download an Image Dataset from S3</NumberHeading>"
   ]
  },
  {
   "cell_type": "markdown",
   "id": "8bba2e81-6768-4400-8e5a-8b4d6e923a4a",
   "metadata": {},
   "source": [
    "We can also use Metaflow's S3 client to download the data.\n",
    "*The following code isn't necessary to run since if you are following along, since you have already downloaded the data locally in the first episode of the tutorial.*\n",
    "The `_download_from_s3` function is used in flows to move the data from S3 and then unzip it on the instance where model training is done.\n",
    "In the next episode, you will see how this function is used in context in the `TrainHandGestureClassifier` flow."
   ]
  },
  {
   "cell_type": "code",
   "execution_count": 1,
   "id": "1ebefc71-5803-43f1-96d4-06bfa0d36054",
   "metadata": {},
   "outputs": [],
   "source": [
    "import zipfile\n",
    "import os\n",
    "from metaflow import S3\n",
    "\n",
    "def _download_from_s3(file):\n",
    "    with S3(s3root = self.S3_URI) as s3:\n",
    "        result = s3.get(file)\n",
    "        with zipfile.ZipFile(result.path, 'r') as zip_ref:\n",
    "            zip_ref.extractall(\n",
    "                os.path.join(self.DATA_ROOT, file.split('.zip')[0])\n",
    "            )\n",
    "            \n",
    "# EXAMPLE USES \n",
    "# _download_from_s3('subsample.zip')\n",
    "# _download_from_s3('subsample-annotations.zip')"
   ]
  },
  {
   "cell_type": "markdown",
   "id": "03d87073-5839-4e46-bcb4-4623d7de686c",
   "metadata": {},
   "source": [
    "In the last two lessons, you saw how to use PyTorch Dataloaders and how Metaflow makes it easy to use them with cloud storage. \n",
    "The ability to move data efficiently in these ways is fundamental when building a workflow for rapid prototyping. \n",
    "In the next lesson, we will shift focus to developing machine learning models in the cloud. \n",
    "Stay tuned for more on accessing GPUs, checkpointing model state, and more tips for setting up iterative, data-intensive, development workflows."
   ]
  }
 ],
 "metadata": {
  "kernelspec": {
   "display_name": "Python 3 (ipykernel)",
   "language": "python",
   "name": "python3"
  },
  "language_info": {
   "codemirror_mode": {
    "name": "ipython",
    "version": 3
   },
   "file_extension": ".py",
   "mimetype": "text/x-python",
   "name": "python",
   "nbconvert_exporter": "python",
   "pygments_lexer": "ipython3",
   "version": "3.10.6"
  }
 },
 "nbformat": 4,
 "nbformat_minor": 5
}
