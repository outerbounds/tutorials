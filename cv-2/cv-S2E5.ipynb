{
 "cells": [
  {
   "cell_type": "raw",
   "id": "d51a4b88-838d-4823-b3c9-79b17d195476",
   "metadata": {},
   "source": [
    "---\n",
    "title: \"Intermediate Computer Vision: Episode 5\"\n",
    "slug: /docs/cv-tutorial-S2E5/\n",
    "tags: [data, cv]\n",
    "sidebar_label: Model Checkpoints\n",
    "id: cv-tutorial-S2E5\n",
    "pagination_next: tutorials/nbs/cv-2/cv-tutorial-S2E6\n",
    "pagination_prev: tutorials/nbs/cv-2/cv-tutorial-S2E4\n",
    "description: A tutorial that uses PyTorch and Metaflow to create a machine learning workflow for rapid prototyping.\n",
    "category: data science\n",
    "hide_table_of_contents: false\n",
    "---"
   ]
  },
  {
   "cell_type": "markdown",
   "id": "e38a0296-1d6a-4c30-bbb9-8811367b71e1",
   "metadata": {},
   "source": [
    "Now that you have the core elements for a robust computer vision training environment, how can you use the `TrainHandGestureClassifier` flow to iteratively find the best models for your use case?\n",
    "\n",
    "For the rest of this tutorial, we will demonstrate two important elements of iterative model development: checkpointing model state and tracking experiment results.\n",
    "\n",
    "To follow along with this page, you can access this [Jupyter notebook](https://github.com/outerbounds/tutorials/tree/main/cv-2/cv-S2E5)."
   ]
  },
  {
   "cell_type": "raw",
   "id": "531fef15-2ebd-4437-932d-918d936864fd",
   "metadata": {},
   "source": [
    "### <NumberHeading number={1}>Checkpoint Models</NumberHeading>"
   ]
  },
  {
   "cell_type": "markdown",
   "id": "12da2a6a-7535-4ff5-8d92-6116f9abdb4e",
   "metadata": {},
   "source": [
    "Checkpointing in model development essentially means that you save the state of a model, so you can resume it at a later time. This way you can make sure you do not lose results, such as your trained model. It also ensure you have a process to load an already trained model in future training and production scenarios, while avoiding duplication of costly computation. \n",
    "\n",
    "In the PyTorch example used in the `TrainHandGestureClassifier` flow, a \"checkpoint\" refers to this code."
   ]
  },
  {
   "cell_type": "markdown",
   "id": "81b77c15-d859-4438-8c0b-37e6349554ab",
   "metadata": {},
   "source": [
    "```python\n",
    "checkpoint_dict = {\n",
    "    'state_dict': model.cpu().state_dict(),\n",
    "    'optimizer_state_dict': optimizer.state_dict(),\n",
    "    'epoch': epoch,\n",
    "    'config': config_dict\n",
    "}\n",
    "torch.save(checkpoint_dict, checkpoint_path)\n",
    "```"
   ]
  },
  {
   "cell_type": "markdown",
   "id": "58606a50-e99e-40e6-9d2e-0c67ccecdc2d",
   "metadata": {},
   "source": [
    "You can save any artifact of the training work you have done in a `checkpoint_dict` like this.\n",
    "Then, you can resume the model state from the checkpoint."
   ]
  },
  {
   "cell_type": "markdown",
   "id": "437435b3-791b-4ccd-99fc-39c64cafb5fb",
   "metadata": {},
   "source": [
    "```python\n",
    "from models.mobilenetv3 import MobileNetV3\n",
    "model = MobileNetV3(num_classes=num_classes, size='small', pretrained=pretrained, freezed=freezed)\n",
    "...\n",
    "checkpoint = torch.load(checkpoint, map_location=torch.device(device))[\"state_dict\"]\n",
    "model.load_state_dict(checkpoint, strict=False)\n",
    "...\n",
    "model.to(device)\n",
    "return model\n",
    "```"
   ]
  },
  {
   "cell_type": "markdown",
   "id": "184a97b5-536f-4b37-aa46-37f8aa4d4550",
   "metadata": {},
   "source": [
    "[Here](https://pytorch.org/tutorials/beginner/saving_loading_models.html#saving-loading-a-general-checkpoint-for-inference-and-or-resuming-training) are more general resources from the PyTorch documentation on checkpointing."
   ]
  },
  {
   "cell_type": "raw",
   "id": "944b1ae9-6842-4197-ab02-fb137b00d3d5",
   "metadata": {},
   "source": [
    "### <NumberHeading number={2}>Uploading the Best Model to the Cloud</NumberHeading>"
   ]
  },
  {
   "cell_type": "markdown",
   "id": "dc8f8214-ca17-4d0e-942d-e6169bf1cf53",
   "metadata": {},
   "source": [
    "Model checkpoints in this example are written to the `best_model.pth` location. \n",
    "But if we are running on a remote compute instance, how do we move this checkpoint to a cloud resource that will persist beyond the lifecycle of the compute task? Again, Metaflow's S3 client makes this easy!\n",
    "\n",
    "After each time model performs better than the previous best one, it is checkpointed and the result is uploaded to the cloud using this snippet:"
   ]
  },
  {
   "cell_type": "markdown",
   "id": "2eada043-699b-4895-bbd4-44ddf2d4bbea",
   "metadata": {},
   "source": [
    "```python\n",
    "path_to_best_model = os.path.join(experiment_path, 'best_model.pth')\n",
    "with S3(s3root = experiment_cloud_storage_path) as s3:\n",
    "    s3.put_files([(path_to_best_model, path_to_best_model)])\n",
    "```"
   ]
  },
  {
   "cell_type": "raw",
   "id": "0be6b100-0d7d-410c-bd15-61f1927745cc",
   "metadata": {},
   "source": [
    "### <NumberHeading number={3}>Resuming the Best Model State</NumberHeading>"
   ]
  },
  {
   "cell_type": "markdown",
   "id": "c55b428b-2f80-43d5-bf49-92d4fd8663a1",
   "metadata": {},
   "source": [
    "The payoff of checkpointing in this way is that now you can easily resume the model from this state. \n",
    "\n",
    "In a notebook you can now evaluate the model, train it further, or iterate on the model architecture (PyTorch allows you to build [dynamic graphs](https://cs230.stanford.edu/section/5/)). "
   ]
  },
  {
   "cell_type": "code",
   "execution_count": 6,
   "id": "bab3d890-0e4c-46a2-9581-e1cf54818e17",
   "metadata": {},
   "outputs": [
    {
     "name": "stdout",
     "output_type": "stream",
     "text": [
      "Building ResNet18\n",
      "Building model from local checkpoint at: best_model.pth\n"
     ]
    }
   ],
   "source": [
    "from hagrid.classifier.run import _initialize_model\n",
    "from omegaconf import OmegaConf\n",
    "\n",
    "model_path = 'best_model.pth'\n",
    "\n",
    "try:\n",
    "    model = _initialize_model(\n",
    "        conf = OmegaConf.load('hagrid/classifier/config/default.yaml'),\n",
    "        model_name = 'ResNet18', \n",
    "        checkpoint_path = model_path, # can be local or S3 URI. \n",
    "        device = 'cpu'\n",
    "    )\n",
    "except FileNotFoundError:\n",
    "    print(\"Are you sure you trained a model and saved the file to {}\".format(model_path))"
   ]
  },
  {
   "cell_type": "markdown",
   "id": "d4d9bbeb-74ed-4887-85f3-86b02e649f6d",
   "metadata": {},
   "source": [
    "Because of how the `TrainHandGestureClassifier` uses Metaflow's built-in versioning capabilities, we can also resume model training with the `--checkpoint` parameter when you run the `TrainHandGestureClassifier` defined in `classifier_flow.py`. This checkpoint parameter can either be to the local `.pth` file or its location in an S3 bucket."
   ]
  },
  {
   "cell_type": "raw",
   "id": "04bcf8f9-cfc2-414b-885f-e7a5b0dabf9e",
   "metadata": {},
   "source": [
    "```mdx-code-block\n",
    "import LiteYouTubeEmbed from 'react-lite-youtube-embed';\n",
    "import 'react-lite-youtube-embed/dist/LiteYouTubeEmbed.css';\n",
    "\n",
    "<div className=\"video-container\">\n",
    "<LiteYouTubeEmbed\n",
    "        id=\"-eyCldzlYgg\"\n",
    "        title=\"Computer Vision Tutorial: Model Checkpointing\"\n",
    "/>\n",
    "</div>\n",
    "```\n",
    "\n",
    "<br></br>"
   ]
  },
  {
   "cell_type": "code",
   "execution_count": 5,
   "id": "c7374a02-fc48-4b96-a42c-de8acb2bd930",
   "metadata": {},
   "outputs": [
    {
     "name": "stdout",
     "output_type": "stream",
     "text": [
      "\u001b[35m\u001b[1mMetaflow 2.7.14\u001b[0m\u001b[35m\u001b[22m executing \u001b[0m\u001b[31m\u001b[1mTrainHandGestureClassifier\u001b[0m\u001b[35m\u001b[22m\u001b[0m\u001b[35m\u001b[22m for \u001b[0m\u001b[31m\u001b[1muser:eddie\u001b[0m\u001b[35m\u001b[22m\u001b[K\u001b[0m\u001b[35m\u001b[22m\u001b[0m\n",
      "\u001b[35m\u001b[22mValidating your flow...\u001b[K\u001b[0m\u001b[35m\u001b[22m\u001b[0m\n",
      "\u001b[32m\u001b[1m    The graph looks good!\u001b[K\u001b[0m\u001b[32m\u001b[1m\u001b[0m\n",
      "\u001b[35m\u001b[22mRunning pylint...\u001b[K\u001b[0m\u001b[35m\u001b[22m\u001b[0m\n",
      "\u001b[32m\u001b[1m    Pylint is happy!\u001b[K\u001b[0m\u001b[32m\u001b[1m\u001b[0m\n",
      "\u001b[35m2022-12-03 23:02:03.277 \u001b[0m\u001b[1mWorkflow starting (run-id 187934):\u001b[0m\n",
      "\u001b[35m2022-12-03 23:02:05.019 \u001b[0m\u001b[32m[187934/start/1013676 (pid 5254)] \u001b[0m\u001b[1mTask is starting.\u001b[0m\n",
      "\u001b[35m2022-12-03 23:02:07.425 \u001b[0m\u001b[32m[187934/start/1013676 (pid 5254)] \u001b[0m\u001b[22mTraining ResNet18 in flow TrainHandGestureClassifier\u001b[0m\n",
      "\u001b[35m2022-12-03 23:02:11.071 \u001b[0m\u001b[32m[187934/start/1013676 (pid 5254)] \u001b[0m\u001b[1mTask finished successfully.\u001b[0m\n",
      "\u001b[35m2022-12-03 23:02:12.674 \u001b[0m\u001b[32m[187934/train/1013677 (pid 5264)] \u001b[0m\u001b[1mTask is starting.\u001b[0m\n",
      "\u001b[35m2022-12-03 23:02:13.953 \u001b[0m\u001b[32m[187934/train/1013677 (pid 5264)] \u001b[0m\u001b[22m[213c0ad1-4e00-4bff-947a-009c1041cf37] Task is starting (status SUBMITTED)...\u001b[0m\n",
      "\u001b[35m2022-12-03 23:02:14.891 \u001b[0m\u001b[32m[187934/train/1013677 (pid 5264)] \u001b[0m\u001b[22m[213c0ad1-4e00-4bff-947a-009c1041cf37] Task is starting (status RUNNABLE)...\u001b[0m\n",
      "\u001b[35m2022-12-03 23:02:45.025 \u001b[0m\u001b[32m[187934/train/1013677 (pid 5264)] \u001b[0m\u001b[22m[213c0ad1-4e00-4bff-947a-009c1041cf37] Task is starting (status RUNNABLE)...\u001b[0m\n",
      "\u001b[35m2022-12-03 23:03:15.148 \u001b[0m\u001b[32m[187934/train/1013677 (pid 5264)] \u001b[0m\u001b[22m[213c0ad1-4e00-4bff-947a-009c1041cf37] Task is starting (status RUNNABLE)...\u001b[0m\n",
      "\u001b[35m2022-12-03 23:03:45.201 \u001b[0m\u001b[32m[187934/train/1013677 (pid 5264)] \u001b[0m\u001b[22m[213c0ad1-4e00-4bff-947a-009c1041cf37] Task is starting (status RUNNABLE)...\u001b[0m\n",
      "\u001b[35m2022-12-03 23:04:15.271 \u001b[0m\u001b[32m[187934/train/1013677 (pid 5264)] \u001b[0m\u001b[22m[213c0ad1-4e00-4bff-947a-009c1041cf37] Task is starting (status RUNNABLE)...\u001b[0m\n",
      "\u001b[35m2022-12-03 23:04:19.725 \u001b[0m\u001b[32m[187934/train/1013677 (pid 5264)] \u001b[0m\u001b[22m[213c0ad1-4e00-4bff-947a-009c1041cf37] Task is starting (status STARTING)...\u001b[0m\n",
      "\u001b[35m2022-12-03 23:04:49.784 \u001b[0m\u001b[32m[187934/train/1013677 (pid 5264)] \u001b[0m\u001b[22m[213c0ad1-4e00-4bff-947a-009c1041cf37] Task is starting (status STARTING)...\u001b[0m\n",
      "\u001b[35m2022-12-03 23:05:19.842 \u001b[0m\u001b[32m[187934/train/1013677 (pid 5264)] \u001b[0m\u001b[22m[213c0ad1-4e00-4bff-947a-009c1041cf37] Task is starting (status STARTING)...\u001b[0m\n",
      "\u001b[35m2022-12-03 23:05:49.850 \u001b[0m\u001b[32m[187934/train/1013677 (pid 5264)] \u001b[0m\u001b[22m[213c0ad1-4e00-4bff-947a-009c1041cf37] Task is starting (status STARTING)...\u001b[0m\n",
      "\u001b[35m2022-12-03 23:06:19.903 \u001b[0m\u001b[32m[187934/train/1013677 (pid 5264)] \u001b[0m\u001b[22m[213c0ad1-4e00-4bff-947a-009c1041cf37] Task is starting (status STARTING)...\u001b[0m\n",
      "\u001b[35m2022-12-03 23:06:50.066 \u001b[0m\u001b[32m[187934/train/1013677 (pid 5264)] \u001b[0m\u001b[22m[213c0ad1-4e00-4bff-947a-009c1041cf37] Task is starting (status STARTING)...\u001b[0m\n",
      "\u001b[35m2022-12-03 23:07:20.137 \u001b[0m\u001b[32m[187934/train/1013677 (pid 5264)] \u001b[0m\u001b[22m[213c0ad1-4e00-4bff-947a-009c1041cf37] Task is starting (status RUNNING)...\u001b[0m\n",
      "\u001b[35m2022-12-03 23:07:20.138 \u001b[0m\u001b[1m1 task is running: train (1 running; 0 done).\u001b[0m\n",
      "\u001b[35m2022-12-03 23:07:20.138 \u001b[0m\u001b[1mNo tasks are waiting in the queue.\u001b[0m\n",
      "\u001b[35m2022-12-03 23:07:20.138 \u001b[0m\u001b[1mend step has not started\u001b[0m\n",
      "\u001b[35m2022-12-03 23:06:46.813 \u001b[0m\u001b[32m[187934/train/1013677 (pid 5264)] \u001b[0m\u001b[22m[213c0ad1-4e00-4bff-947a-009c1041cf37] Setting up task environment.\u001b[0m\n",
      "\u001b[35m2022-12-03 23:07:00.000 \u001b[0m\u001b[32m[187934/train/1013677 (pid 5264)] \u001b[0m\u001b[22m[213c0ad1-4e00-4bff-947a-009c1041cf37] Downloading code package...\u001b[0m\n",
      "\u001b[35m2022-12-03 23:07:00.874 \u001b[0m\u001b[32m[187934/train/1013677 (pid 5264)] \u001b[0m\u001b[22m[213c0ad1-4e00-4bff-947a-009c1041cf37] Code package downloaded.\u001b[0m\n",
      "\u001b[35m2022-12-03 23:07:01.048 \u001b[0m\u001b[32m[187934/train/1013677 (pid 5264)] \u001b[0m\u001b[22m[213c0ad1-4e00-4bff-947a-009c1041cf37] Task is starting.\u001b[0m\n",
      "\u001b[35m2022-12-03 23:07:04.875 \u001b[0m\u001b[32m[187934/train/1013677 (pid 5264)] \u001b[0m\u001b[22m[213c0ad1-4e00-4bff-947a-009c1041cf37] Downloading images...\u001b[0m\n",
      "\u001b[35m2022-12-03 23:07:31.897 \u001b[0m\u001b[32m[187934/train/1013677 (pid 5264)] \u001b[0m\u001b[22m[213c0ad1-4e00-4bff-947a-009c1041cf37] Done!\u001b[0m\n",
      "\u001b[35m2022-12-03 23:07:31.898 \u001b[0m\u001b[32m[187934/train/1013677 (pid 5264)] \u001b[0m\u001b[22m[213c0ad1-4e00-4bff-947a-009c1041cf37] Downloading annotations...\u001b[0m\n",
      "\u001b[35m2022-12-03 23:07:32.229 \u001b[0m\u001b[32m[187934/train/1013677 (pid 5264)] \u001b[0m\u001b[22m[213c0ad1-4e00-4bff-947a-009c1041cf37] Done!\u001b[0m\n",
      "\u001b[35m2022-12-03 23:07:34.166 \u001b[0m\u001b[32m[187934/train/1013677 (pid 5264)] \u001b[0m\u001b[22m[213c0ad1-4e00-4bff-947a-009c1041cf37] Building ResNet18\u001b[0m\n",
      "\u001b[35m2022-12-03 23:07:34.165 \u001b[0m\u001b[32m[187934/train/1013677 (pid 5264)] \u001b[0m\u001b[22m[213c0ad1-4e00-4bff-947a-009c1041cf37] [LINE:101] INFO     [2022-12-04 05:07:34,165]  Current device: cuda\u001b[0m\n",
      "\u001b[35m2022-12-03 23:07:38.992 \u001b[0m\u001b[32m[187934/train/1013677 (pid 5264)] \u001b[0m\u001b[22m[213c0ad1-4e00-4bff-947a-009c1041cf37] Building model from local checkpoint at: best_model.pth\u001b[0m\n",
      "\u001b[35m2022-12-03 23:07:39.044 \u001b[0m\u001b[32m[187934/train/1013677 (pid 5264)] \u001b[0m\u001b[22m[213c0ad1-4e00-4bff-947a-009c1041cf37] <flow TrainHandGestureClassifier step train> failed:\u001b[0m\n",
      "\u001b[35m2022-12-03 23:07:40.358 \u001b[0m\u001b[32m[187934/train/1013677 (pid 5264)] \u001b[0m\u001b[22m[213c0ad1-4e00-4bff-947a-009c1041cf37]     Internal error\u001b[0m\n",
      "\u001b[35m2022-12-03 23:07:40.358 \u001b[0m\u001b[32m[187934/train/1013677 (pid 5264)] \u001b[0m\u001b[22m[213c0ad1-4e00-4bff-947a-009c1041cf37] Traceback (most recent call last):\u001b[0m\n",
      "\u001b[35m2022-12-03 23:07:40.358 \u001b[0m\u001b[32m[187934/train/1013677 (pid 5264)] \u001b[0m\u001b[22m[213c0ad1-4e00-4bff-947a-009c1041cf37]   File \"/app/metaflow/metaflow/cli.py\", line 1171, in main\u001b[0m\n",
      "\u001b[35m2022-12-03 23:07:40.358 \u001b[0m\u001b[32m[187934/train/1013677 (pid 5264)] \u001b[0m\u001b[22m[213c0ad1-4e00-4bff-947a-009c1041cf37]     start(auto_envvar_prefix=\"METAFLOW\", obj=state)\u001b[0m\n",
      "\u001b[35m2022-12-03 23:07:40.358 \u001b[0m\u001b[32m[187934/train/1013677 (pid 5264)] \u001b[0m\u001b[22m[213c0ad1-4e00-4bff-947a-009c1041cf37]   File \"/app/metaflow/metaflow/_vendor/click/core.py\", line 829, in __call__\u001b[0m\n",
      "\u001b[35m2022-12-03 23:07:40.358 \u001b[0m\u001b[32m[187934/train/1013677 (pid 5264)] \u001b[0m\u001b[22m[213c0ad1-4e00-4bff-947a-009c1041cf37]     return self.main(args, kwargs)\u001b[0m\n",
      "\u001b[35m2022-12-03 23:07:40.358 \u001b[0m\u001b[32m[187934/train/1013677 (pid 5264)] \u001b[0m\u001b[22m[213c0ad1-4e00-4bff-947a-009c1041cf37]   File \"/app/metaflow/metaflow/_vendor/click/core.py\", line 782, in main\u001b[0m\n",
      "\u001b[35m2022-12-03 23:07:40.358 \u001b[0m\u001b[32m[187934/train/1013677 (pid 5264)] \u001b[0m\u001b[22m[213c0ad1-4e00-4bff-947a-009c1041cf37]     rv = self.invoke(ctx)\u001b[0m\n",
      "\u001b[35m2022-12-03 23:07:40.358 \u001b[0m\u001b[32m[187934/train/1013677 (pid 5264)] \u001b[0m\u001b[22m[213c0ad1-4e00-4bff-947a-009c1041cf37]   File \"/app/metaflow/metaflow/_vendor/click/core.py\", line 1259, in invoke\u001b[0m\n",
      "\u001b[35m2022-12-03 23:07:40.358 \u001b[0m\u001b[32m[187934/train/1013677 (pid 5264)] \u001b[0m\u001b[22m[213c0ad1-4e00-4bff-947a-009c1041cf37]     return _process_result(sub_ctx.command.invoke(sub_ctx))\u001b[0m\n",
      "\u001b[35m2022-12-03 23:07:40.359 \u001b[0m\u001b[32m[187934/train/1013677 (pid 5264)] \u001b[0m\u001b[22m[213c0ad1-4e00-4bff-947a-009c1041cf37]   File \"/app/metaflow/metaflow/_vendor/click/core.py\", line 1066, in invoke\u001b[0m\n",
      "\u001b[35m2022-12-03 23:07:40.359 \u001b[0m\u001b[32m[187934/train/1013677 (pid 5264)] \u001b[0m\u001b[22m[213c0ad1-4e00-4bff-947a-009c1041cf37]     return ctx.invoke(self.callback, ctx.params)\u001b[0m\n",
      "\u001b[35m2022-12-03 23:07:40.359 \u001b[0m\u001b[32m[187934/train/1013677 (pid 5264)] \u001b[0m\u001b[22m[213c0ad1-4e00-4bff-947a-009c1041cf37]   File \"/app/metaflow/metaflow/_vendor/click/core.py\", line 610, in invoke\u001b[0m\n",
      "\u001b[35m2022-12-03 23:08:33.003 \u001b[0m\u001b[32m[187934/train/1013677 (pid 5264)] \u001b[0m\u001b[22mAWS Batch error:\u001b[0m\n",
      "\u001b[35m2022-12-03 23:08:33.107 \u001b[0m\u001b[32m[187934/train/1013677 (pid 5264)] \u001b[0m\u001b[22mEssential container in task exited This could be a transient error. Use @retry to retry.\u001b[0m\n",
      "\u001b[35m2022-12-03 23:08:33.107 \u001b[0m\u001b[32m[187934/train/1013677 (pid 5264)] \u001b[0m\u001b[22m\u001b[0m\n",
      "\u001b[35m2022-12-03 23:07:40.359 \u001b[0m\u001b[32m[187934/train/1013677 (pid 5264)] \u001b[0m\u001b[22m[213c0ad1-4e00-4bff-947a-009c1041cf37]     return callback(args, kwargs)\u001b[0m\n",
      "\u001b[35m2022-12-03 23:07:40.359 \u001b[0m\u001b[32m[187934/train/1013677 (pid 5264)] \u001b[0m\u001b[22m[213c0ad1-4e00-4bff-947a-009c1041cf37]   File \"/app/metaflow/metaflow/_vendor/click/decorators.py\", line 21, in new_func\u001b[0m\n",
      "\u001b[35m2022-12-03 23:07:40.359 \u001b[0m\u001b[32m[187934/train/1013677 (pid 5264)] \u001b[0m\u001b[22m[213c0ad1-4e00-4bff-947a-009c1041cf37]     return f(get_current_context(), args, kwargs)\u001b[0m\n",
      "\u001b[35m2022-12-03 23:07:40.359 \u001b[0m\u001b[32m[187934/train/1013677 (pid 5264)] \u001b[0m\u001b[22m[213c0ad1-4e00-4bff-947a-009c1041cf37]   File \"/app/metaflow/metaflow/cli.py\", line 580, in step\u001b[0m\n",
      "\u001b[35m2022-12-03 23:07:40.359 \u001b[0m\u001b[32m[187934/train/1013677 (pid 5264)] \u001b[0m\u001b[22m[213c0ad1-4e00-4bff-947a-009c1041cf37]     task.run_step(\u001b[0m\n",
      "\u001b[35m2022-12-03 23:07:40.359 \u001b[0m\u001b[32m[187934/train/1013677 (pid 5264)] \u001b[0m\u001b[22m[213c0ad1-4e00-4bff-947a-009c1041cf37]   File \"/app/metaflow/metaflow/task.py\", line 587, in run_step\u001b[0m\n",
      "\u001b[35m2022-12-03 23:07:40.359 \u001b[0m\u001b[32m[187934/train/1013677 (pid 5264)] \u001b[0m\u001b[22m[213c0ad1-4e00-4bff-947a-009c1041cf37]     self._exec_step_function(step_func)\u001b[0m\n",
      "\u001b[35m2022-12-03 23:07:40.359 \u001b[0m\u001b[32m[187934/train/1013677 (pid 5264)] \u001b[0m\u001b[22m[213c0ad1-4e00-4bff-947a-009c1041cf37]   File \"/app/metaflow/metaflow/task.py\", line 61, in _exec_step_function\u001b[0m\n",
      "\u001b[35m2022-12-03 23:07:40.359 \u001b[0m\u001b[32m[187934/train/1013677 (pid 5264)] \u001b[0m\u001b[22m[213c0ad1-4e00-4bff-947a-009c1041cf37]     step_function()\u001b[0m\n",
      "\u001b[35m2022-12-03 23:07:40.359 \u001b[0m\u001b[32m[187934/train/1013677 (pid 5264)] \u001b[0m\u001b[22m[213c0ad1-4e00-4bff-947a-009c1041cf37]   File \"classifier_flow.py\", line 110, in train\u001b[0m\n",
      "\u001b[35m2022-12-03 23:07:40.359 \u001b[0m\u001b[32m[187934/train/1013677 (pid 5264)] \u001b[0m\u001b[22m[213c0ad1-4e00-4bff-947a-009c1041cf37]     _ = run_train(self.train_args)\u001b[0m\n",
      "\u001b[35m2022-12-03 23:07:40.359 \u001b[0m\u001b[32m[187934/train/1013677 (pid 5264)] \u001b[0m\u001b[22m[213c0ad1-4e00-4bff-947a-009c1041cf37]   File \"/app/metaflow/hagrid/classifier/run.py\", line 102, in run_train\u001b[0m\n",
      "\u001b[35m2022-12-03 23:07:40.359 \u001b[0m\u001b[32m[187934/train/1013677 (pid 5264)] \u001b[0m\u001b[22m[213c0ad1-4e00-4bff-947a-009c1041cf37]     model = _initialize_model(conf, model_name, checkpoint_path, device)\u001b[0m\n",
      "\u001b[35m2022-12-03 23:07:40.359 \u001b[0m\u001b[32m[187934/train/1013677 (pid 5264)] \u001b[0m\u001b[22m[213c0ad1-4e00-4bff-947a-009c1041cf37]   File \"/app/metaflow/hagrid/classifier/run.py\", line 38, in _initialize_model\u001b[0m\n",
      "\u001b[35m2022-12-03 23:07:40.359 \u001b[0m\u001b[32m[187934/train/1013677 (pid 5264)] \u001b[0m\u001b[22m[213c0ad1-4e00-4bff-947a-009c1041cf37]     model = build_model(\u001b[0m\n",
      "\u001b[35m2022-12-03 23:07:40.359 \u001b[0m\u001b[32m[187934/train/1013677 (pid 5264)] \u001b[0m\u001b[22m[213c0ad1-4e00-4bff-947a-009c1041cf37]   File \"/app/metaflow/hagrid/classifier/utils.py\", line 193, in build_model\u001b[0m\n",
      "\u001b[35m2022-12-03 23:07:40.359 \u001b[0m\u001b[32m[187934/train/1013677 (pid 5264)] \u001b[0m\u001b[22m[213c0ad1-4e00-4bff-947a-009c1041cf37]     checkpoint = torch.load(checkpoint, map_location=torch.device(device))[\"state_dict\"]\u001b[0m\n",
      "\u001b[35m2022-12-03 23:07:40.359 \u001b[0m\u001b[32m[187934/train/1013677 (pid 5264)] \u001b[0m\u001b[22m[213c0ad1-4e00-4bff-947a-009c1041cf37]   File \"/home/user/.local/lib/python3.8/site-packages/torch/serialization.py\", line 771, in load\u001b[0m\n",
      "\u001b[35m2022-12-03 23:07:40.359 \u001b[0m\u001b[32m[187934/train/1013677 (pid 5264)] \u001b[0m\u001b[22m[213c0ad1-4e00-4bff-947a-009c1041cf37]     with _open_file_like(f, 'rb') as opened_file:\u001b[0m\n",
      "\u001b[35m2022-12-03 23:07:40.359 \u001b[0m\u001b[32m[187934/train/1013677 (pid 5264)] \u001b[0m\u001b[22m[213c0ad1-4e00-4bff-947a-009c1041cf37]   File \"/home/user/.local/lib/python3.8/site-packages/torch/serialization.py\", line 270, in _open_file_like\u001b[0m\n",
      "\u001b[35m2022-12-03 23:07:40.359 \u001b[0m\u001b[32m[187934/train/1013677 (pid 5264)] \u001b[0m\u001b[22m[213c0ad1-4e00-4bff-947a-009c1041cf37]     return _open_file(name_or_buffer, mode)\u001b[0m\n",
      "\u001b[35m2022-12-03 23:07:40.360 \u001b[0m\u001b[32m[187934/train/1013677 (pid 5264)] \u001b[0m\u001b[22m[213c0ad1-4e00-4bff-947a-009c1041cf37]   File \"/home/user/.local/lib/python3.8/site-packages/torch/serialization.py\", line 251, in __init__\u001b[0m\n",
      "\u001b[35m2022-12-03 23:07:40.360 \u001b[0m\u001b[32m[187934/train/1013677 (pid 5264)] \u001b[0m\u001b[22m[213c0ad1-4e00-4bff-947a-009c1041cf37]     super(_open_file, self).__init__(open(name, mode))\u001b[0m\n",
      "\u001b[35m2022-12-03 23:07:40.360 \u001b[0m\u001b[32m[187934/train/1013677 (pid 5264)] \u001b[0m\u001b[22m[213c0ad1-4e00-4bff-947a-009c1041cf37] FileNotFoundError: [Errno 2] No such file or directory: 'best_model.pth'\u001b[0m\n",
      "\u001b[35m2022-12-03 23:07:40.360 \u001b[0m\u001b[32m[187934/train/1013677 (pid 5264)] \u001b[0m\u001b[22m[213c0ad1-4e00-4bff-947a-009c1041cf37]\u001b[0m\n",
      "\u001b[35m2022-12-03 23:08:33.459 \u001b[0m\u001b[32m[187934/train/1013677 (pid 5264)] \u001b[0m\u001b[1mTask failed.\u001b[0m\n",
      "\u001b[35m2022-12-03 23:08:33.718 \u001b[0m\u001b[31m\u001b[1mWorkflow failed.\u001b[0m\n",
      "\u001b[35m2022-12-03 23:08:33.718 \u001b[0m\u001b[31m\u001b[1mTerminating 0 active tasks...\u001b[0m\n",
      "\u001b[35m2022-12-03 23:08:33.718 \u001b[0m\u001b[31m\u001b[1mFlushing logs...\u001b[0m\n",
      "\u001b[1m    Step failure\u001b[0m\u001b[22m:\u001b[K\u001b[0m\u001b[22m\u001b[0m\n",
      "\u001b[22m    Step \u001b[0m\u001b[31m\u001b[1mtrain\u001b[0m\u001b[22m (task-id 1013677) failed.\u001b[K\u001b[0m\u001b[22m\u001b[0m\n",
      "\u001b[22m\u001b[K\u001b[0m\n",
      "\u001b[0m"
     ]
    }
   ],
   "source": [
    "#meta:filter_words=Step,INFO\n",
    "! python classifier_flow.py --package-suffixes .yaml run --epochs 1 --model ResNet18 --checkpoint best_model.pth"
   ]
  },
  {
   "cell_type": "markdown",
   "id": "ce544d4a-9da8-428c-861d-6ed3c3ccb4b5",
   "metadata": {},
   "source": [
    "In this lesson, you saw how to ensure you don't lose progress as you iterate on your model using checkpoints. \n",
    "You learned how to store model checkpoints and resume that state from a notebook or as the starting point in a subsequent flow. \n",
    "In the next lesson, we will complete the tutorial by demonstrating the use of [Tensorboard](https://www.tensorflow.org/tensorboard)'s experiment tracking solution with Metaflow. "
   ]
  }
 ],
 "metadata": {
  "kernelspec": {
   "display_name": "Python 3 (ipykernel)",
   "language": "python",
   "name": "python3"
  },
  "language_info": {
   "codemirror_mode": {
    "name": "ipython",
    "version": 3
   },
   "file_extension": ".py",
   "mimetype": "text/x-python",
   "name": "python",
   "nbconvert_exporter": "python",
   "pygments_lexer": "ipython3",
   "version": "3.10.6"
  }
 },
 "nbformat": 4,
 "nbformat_minor": 5
}
