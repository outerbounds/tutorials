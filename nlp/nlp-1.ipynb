{
 "cells": [
  {
   "cell_type": "markdown",
   "id": "e7d65b4d-372a-42ce-b7ec-344ed8ff1072",
   "metadata": {},
   "source": [
    "This episode references this [notebook](https://github.com/outerbounds/tutorials/blob/main/nlp/nlp-1.ipynb).\n",
    "It will familiarize you with the dataset and the baseline relevant to the business problem we want to solve."
   ]
  },
  {
   "cell_type": "markdown",
   "id": "757569c6-959a-43aa-aa05-173bff1c86e8",
   "metadata": {},
   "source": [
    "### Load the Data"
   ]
  },
  {
   "cell_type": "markdown",
   "id": "9c6a7337-8686-465f-b480-1f2dd3b6120c",
   "metadata": {},
   "source": [
    "We are going to build a model that classifies customer reviews as positive or negative sentiment, using the [Women's E-Commerce Clothing Reviews Dataset](https://www.kaggle.com/datasets/nicapotato/womens-ecommerce-clothing-reviews). Here is what the data looks like:"
   ]
  },
  {
   "cell_type": "code",
   "execution_count": 1,
   "id": "6657028f-ceab-434b-b53d-453c82dced6c",
   "metadata": {},
   "outputs": [
    {
     "name": "stdout",
     "output_type": "stream",
     "text": [
      "num of rows: 20377\n"
     ]
    }
   ],
   "source": [
    "import pandas as pd\n",
    "df = pd.read_parquet('train.parquet')\n",
    "print(f'num of rows: {df.shape[0]}')"
   ]
  },
  {
   "cell_type": "markdown",
   "id": "70a06d7a-c64a-492d-97cc-fa3396581ec4",
   "metadata": {},
   "source": [
    "The data is stored in a [parquet file](/docs/tabular-file-formats), which is a framework agnostic way of storing data that you are likely to encounter in the wild.  It works seamlessly with pandas and is a format that is commonly available if your data is already in a database. "
   ]
  },
  {
   "cell_type": "code",
   "execution_count": 2,
   "id": "7dccde6e-d538-4f3d-b65e-f6db7d623672",
   "metadata": {},
   "outputs": [
    {
     "data": {
      "text/html": [
       "<div>\n",
       "<style scoped>\n",
       "    .dataframe tbody tr th:only-of-type {\n",
       "        vertical-align: middle;\n",
       "    }\n",
       "\n",
       "    .dataframe tbody tr th {\n",
       "        vertical-align: top;\n",
       "    }\n",
       "\n",
       "    .dataframe thead th {\n",
       "        text-align: right;\n",
       "    }\n",
       "</style>\n",
       "<table border=\"1\" class=\"dataframe\">\n",
       "  <thead>\n",
       "    <tr style=\"text-align: right;\">\n",
       "      <th></th>\n",
       "      <th>labels</th>\n",
       "      <th>review</th>\n",
       "    </tr>\n",
       "  </thead>\n",
       "  <tbody>\n",
       "    <tr>\n",
       "      <th>0</th>\n",
       "      <td>0</td>\n",
       "      <td>Odd fit: I wanted to love this sweater but the...</td>\n",
       "    </tr>\n",
       "    <tr>\n",
       "      <th>1</th>\n",
       "      <td>1</td>\n",
       "      <td>Very comfy dress: The quality and material of ...</td>\n",
       "    </tr>\n",
       "    <tr>\n",
       "      <th>2</th>\n",
       "      <td>0</td>\n",
       "      <td>Fits nicely but fabric a bit thin: I ordered t...</td>\n",
       "    </tr>\n",
       "    <tr>\n",
       "      <th>3</th>\n",
       "      <td>1</td>\n",
       "      <td>Great fit: Love these jeans, fit and style... ...</td>\n",
       "    </tr>\n",
       "    <tr>\n",
       "      <th>4</th>\n",
       "      <td>0</td>\n",
       "      <td>Stretches out, washes poorly. wish i could ret...</td>\n",
       "    </tr>\n",
       "  </tbody>\n",
       "</table>\n",
       "</div>"
      ],
      "text/plain": [
       "   labels                                             review\n",
       "0       0  Odd fit: I wanted to love this sweater but the...\n",
       "1       1  Very comfy dress: The quality and material of ...\n",
       "2       0  Fits nicely but fabric a bit thin: I ordered t...\n",
       "3       1  Great fit: Love these jeans, fit and style... ...\n",
       "4       0  Stretches out, washes poorly. wish i could ret..."
      ]
     },
     "execution_count": 2,
     "metadata": {},
     "output_type": "execute_result"
    }
   ],
   "source": [
    "df.head()"
   ]
  },
  {
   "cell_type": "markdown",
   "id": "d21655d7-ba16-44f4-9f5a-5acacec7a257",
   "metadata": {},
   "source": [
    "### Fit a Baseline Model"
   ]
  },
  {
   "cell_type": "markdown",
   "id": "bc98ba7b-aa75-4960-90b0-3ad6b8481a43",
   "metadata": {},
   "source": [
    "Before we begin training a model, it is useful to set a baseline.  One such baseline is the majority-class classifier, which measures what happens when we label all of our examples with the majority class.  We can then calculate our performance metrics by using this baseline model, which in this case is [accuracy](https://scikit-learn.org/stable/modules/generated/sklearn.metrics.accuracy_score.html) and the [area under the ROC curve](https://scikit-learn.org/stable/modules/generated/sklearn.metrics.roc_auc_score.html):"
   ]
  },
  {
   "cell_type": "code",
   "execution_count": 3,
   "id": "541604f9-6882-4424-92f1-409d3f281e5b",
   "metadata": {},
   "outputs": [
    {
     "name": "stdout",
     "output_type": "stream",
     "text": [
      "Baseline Accuracy: 0.773\n",
      "Baseline AUC: 0.5\n"
     ]
    }
   ],
   "source": [
    "from sklearn.metrics import accuracy_score, roc_auc_score\n",
    "\n",
    "valdf = pd.read_parquet('valid.parquet')\n",
    "baseline_predictions = [1] * valdf.shape[0]\n",
    "base_acc = accuracy_score(valdf.labels, \n",
    "                          baseline_predictions)\n",
    "base_rocauc = roc_auc_score(valdf.labels, \n",
    "                            baseline_predictions)\n",
    "\n",
    "msg = 'Baseline Accuracy: {}\\nBaseline AUC: {}'\n",
    "print(msg.format(round(base_acc,3), round(base_rocauc,3)))"
   ]
  },
  {
   "cell_type": "markdown",
   "id": "104dbca5-f3a7-483e-ba64-e30914a03748",
   "metadata": {},
   "source": [
    "Now that we understand the dataset and the problem a bit more, we can start building our model.  We will draw upon machine learning techniques from [natural language processing](https://en.wikipedia.org/wiki/Natural_language_processing) to see if we can train an algorithm to predict the sentiment of these fashion reviews."
   ]
  }
 ],
 "metadata": {
  "kernelspec": {
   "display_name": "Python 3 (ipykernel)",
   "language": "python",
   "name": "python3"
  },
  "language_info": {
   "codemirror_mode": {
    "name": "ipython",
    "version": 3
   },
   "file_extension": ".py",
   "mimetype": "text/x-python",
   "name": "python",
   "nbconvert_exporter": "python",
   "pygments_lexer": "ipython3",
   "version": "3.9.13"
  }
 },
 "nbformat": 4,
 "nbformat_minor": 5
}
