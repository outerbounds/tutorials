{
 "cells": [
  {
   "cell_type": "markdown",
   "id": "b3cda407-18aa-4a1b-9a04-03d6416b4b8e",
   "metadata": {},
   "source": [
    "This episode references two pieces of code:\n",
    "\n",
    "1.  [Notebook](https://github.com/outerbounds/tutorials/blob/main/nlp/nlp-5.ipynb) for this lesson.\n",
    "2.  [predflow.py](https://github.com/outerbounds/tutorials/blob/main/nlp/predflow.py)"
   ]
  },
  {
   "cell_type": "markdown",
   "id": "5df04b2b-eab2-49ac-a591-9b43f39a4aaa",
   "metadata": {},
   "source": [
    "In [the previous episode](/docs/nlp-tutorial-L5/), you saw how we trained a model and tagged the model if it passed certain tests to indicate that it was ready for downstream processes.\n",
    "In this lesson, we show you how you can retrieve this model outside of flows with the client API.\n",
    "At the end of this lesson, you will know how to retrieve your flow results for analysis in a notebook or Python script."
   ]
  },
  {
   "cell_type": "markdown",
   "id": "67acad84-46fb-4f73-b6d0-73eb19bc73f5",
   "metadata": {},
   "source": [
    "### Use the Client API to Fetch the Latest Run"
   ]
  },
  {
   "cell_type": "markdown",
   "id": "359b29d2-e7d3-472f-93b3-3e9d56ff6909",
   "metadata": {},
   "source": [
    "In addition to manipulating tags as seen in the previous lesson, the Metaflow [client API](https://docs.metaflow.org/api/client) allows you to access data from past runs.  For example, this is how you can retrieve a model tagged as a `deployment candidate` outside of a flow:"
   ]
  },
  {
   "cell_type": "code",
   "execution_count": 1,
   "id": "86877e4c-3cf2-4501-8875-0090388f998c",
   "metadata": {},
   "outputs": [],
   "source": [
    "from metaflow import Flow\n",
    "\n",
    "def get_latest_successful_run(flow_nm, tag):\n",
    "    \"Gets the latest successful run for a flow with a specific tag.\"\n",
    "    for r in Flow(flow_nm).runs(tag):\n",
    "        if r.successful: return r"
   ]
  },
  {
   "cell_type": "markdown",
   "id": "10583ede-7404-4a10-8d55-0a1d9d5e17d8",
   "metadata": {},
   "source": [
    "The above code allows you to retrieve runs for flows matching `flow_nm` and filter them according to whether or not they are tagged. Finally, we check if the run is successful with the `successful` property. "
   ]
  },
  {
   "cell_type": "markdown",
   "id": "259173b9-25c7-4c49-bebd-f536eb7dca25",
   "metadata": {},
   "source": [
    "### Load the Model"
   ]
  },
  {
   "cell_type": "markdown",
   "id": "4bc88697-0295-4ec8-8e5f-66883449ee6f",
   "metadata": {},
   "source": [
    "After retrieving the model's data with the client API, we can load the model like this:"
   ]
  },
  {
   "cell_type": "code",
   "execution_count": 2,
   "id": "9f9186d3-c876-4641-b74f-7ecb36469550",
   "metadata": {},
   "outputs": [],
   "source": [
    "from model import NbowModel\n",
    "\n",
    "run = get_latest_successful_run('NLPFlow', 'deployment_candidate')\n",
    "model = NbowModel.from_dict(run.data.model_dict)"
   ]
  },
  {
   "cell_type": "markdown",
   "id": "4b077be9-23d9-4183-8298-2e5e42cd10f0",
   "metadata": {},
   "source": [
    "### Make Predictions with the Model"
   ]
  },
  {
   "cell_type": "markdown",
   "id": "3f27cf16-5959-4def-9b0a-51f46f8c39c3",
   "metadata": {},
   "source": [
    "Now that we have retrieved the model using the tag we can use it to make predictions:"
   ]
  },
  {
   "cell_type": "code",
   "execution_count": 3,
   "id": "635d53d9-9186-42ea-bf91-6ac460322b0c",
   "metadata": {},
   "outputs": [
    {
     "name": "stdout",
     "output_type": "stream",
     "text": [
      "71/71 [==============================] - 0s 315us/step\n"
     ]
    },
    {
     "name": "stderr",
     "output_type": "stream",
     "text": [
      "2022-10-25 13:07:04.717009: W tensorflow/core/platform/profile_utils/cpu_utils.cc:128] Failed to get CPU frequency: 0 Hz\n"
     ]
    },
    {
     "data": {
      "text/plain": [
       "array([[0.999181  ],\n",
       "       [0.98211557],\n",
       "       [0.999635  ],\n",
       "       ...,\n",
       "       [0.99945015],\n",
       "       [0.9991339 ],\n",
       "       [0.56526893]], dtype=float32)"
      ]
     },
     "execution_count": 3,
     "metadata": {},
     "output_type": "execute_result"
    }
   ],
   "source": [
    "import pandas as pd\n",
    "\n",
    "predict_df = pd.read_parquet('predict.parquet')\n",
    "preds = model.predict(predict_df['review'])\n",
    "preds"
   ]
  },
  {
   "cell_type": "markdown",
   "id": "2c81536d-6eed-49ab-aa84-4ff09e079cc0",
   "metadata": {},
   "source": [
    "### Save Predictions"
   ]
  },
  {
   "cell_type": "markdown",
   "id": "b1533abf-5723-4563-9ea8-add4b5beedc5",
   "metadata": {},
   "source": [
    "You can write these predictions to a parquet file like so:"
   ]
  },
  {
   "cell_type": "code",
   "execution_count": 4,
   "id": "bc90fd83-c601-43c9-80f4-3d0414629506",
   "metadata": {},
   "outputs": [],
   "source": [
    "import pyarrow as pa\n",
    "pa_tbl = pa.table({\"data\": preds.squeeze()})\n",
    "pa.parquet.write_table(pa_tbl, \"sentiment_predictions.parquet\")"
   ]
  },
  {
   "cell_type": "markdown",
   "id": "a7355e32-2ada-4784-a61b-de62d46423f1",
   "metadata": {},
   "source": [
    "In this episode, you saw how to use the results of a completed flow run, in this case accessing a trained model to make predictions on new data. In the next lesson, you will see how to access the model from a different flow."
   ]
  }
 ],
 "metadata": {
  "kernelspec": {
   "display_name": "Python 3 (ipykernel)",
   "language": "python",
   "name": "python3"
  },
  "language_info": {
   "codemirror_mode": {
    "name": "ipython",
    "version": 3
   },
   "file_extension": ".py",
   "mimetype": "text/x-python",
   "name": "python",
   "nbconvert_exporter": "python",
   "pygments_lexer": "ipython3",
   "version": "3.9.13"
  }
 },
 "nbformat": 4,
 "nbformat_minor": 5
}
